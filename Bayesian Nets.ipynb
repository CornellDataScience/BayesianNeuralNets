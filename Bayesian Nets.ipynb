{
 "cells": [
  {
   "cell_type": "markdown",
   "metadata": {},
   "source": [
    "<a id='Header'></a>\n",
    "\n",
    "# Introduction to Bayesian Neural Networks in Edward\n",
    "\n",
    "This tutorial is an introduction to Bayesian methods in Neural Networks, and should be an in-depth introduction to Bayesian inference methods and probabilistic modeling. Prior knowledge of basic probability theory is recommended before tackling all the concepts in this tutorial.\n",
    "\n",
    "As can be seen in the [table of contents](#TOC), this tutorial first sets up the problem of Bayesian linear regression along with an introduction to Bayesian infererence. Then we illustrate an implementation of BLR in Edward, and then move onto an introduction to approximate inference methods. From there, we tackle an implementation of a convolutional Neural Network (CNN) trained on the MNIST digit dataset. If you are already familiar with inference and Bayesian statistics, and are more interested in the workings of Edward with neural nets, you can go directly to the example implementation in [section 3](#BNN). \n",
    "\n",
    "As for the code in this notebook, the primary python library used to model BNNs is [Edward](http://edwardlib.org), a tensorflow library designed for probablistic modeling, and most importantly, approximate Bayesian inference and modeling. Make sure tensorflow, numpy, edward, as well as matplotlib, is properly installed before using this notebook.  \n",
    "  \n",
    "_(Note: If you have a pretty old computer, using tensorflow 1.5 or below maybe advised since a \"core dump: illegal instruction\" error may occur when importing edward. Otherwise ignore this warning)_\n",
    "\n",
    "Many thanks are given to Professor [Andrew Wilson](https://people.orie.cornell.edu/andrew/), who has both introduced and helped us understand many of the concepts written here."
   ]
  },
  {
   "cell_type": "markdown",
   "metadata": {},
   "source": [
    "<a id='TOC'></a>\n",
    "\n",
    "# Table of contents\n",
    "\n",
    "### [1. Bayesian Linear Regression](#Bayesian Linear Regression)\n",
    "\n",
    "1.1 [Problem Setup: Simple Linear Regression](#BLR1)\n",
    "\n",
    "1.2 [Introduction to Bayesian Inference](#BLR2)\n",
    "\n",
    "1.3 [Implementing Bayesian Linear Regression](#BLR3)\n",
    "\n",
    "###   [2. Approximate Inference](#ApproxInf)\n",
    "\n",
    "2.1   [Limits of Exact Inference](#ApproxInf2)  \n",
    "\n",
    "2.1.1 [Optional Read: Bayesian Model Comparison](#addApprox)\n",
    "\n",
    "2.2 [Variational Inference](#ApproxInf3)\n",
    "\n",
    "2.2.1 [KL divergence](#ApproxInf4)\n",
    "\n",
    "2.2.2 [Evidence Lower Bound](#ApproxInf5)\n",
    "\n",
    "2.2 Markov Chain - Monte Carlo (MCMC) \n",
    "\n",
    "### [3. Bayesian Neural Network Example](#BNN)\n",
    "    \n",
    "3.1 [Bayesian Multilayer Perceptron](#BNN1)\n",
    "  \n",
    "3.2 [Bayesian Convolutional Neural Network](#BNN2)\n"
   ]
  },
  {
   "cell_type": "code",
   "execution_count": 1,
   "metadata": {},
   "outputs": [
    {
     "data": {
      "text/html": [
       "<script>\n",
       "code_show=true; \n",
       "function code_toggle() {\n",
       " if (code_show){\n",
       " $('div.input').hide();\n",
       " } else {\n",
       " $('div.input').show();\n",
       " }\n",
       " code_show = !code_show\n",
       "} \n",
       "$( document ).ready(code_toggle);\n",
       "</script>\n",
       "Another Note/warning: The raw code for this IPython notebook is by default hidden for easier reading.\n",
       "To toggle on/off the raw code, click <a href=\"javascript:code_toggle()\">here</a>."
      ],
      "text/plain": [
       "<IPython.core.display.HTML object>"
      ]
     },
     "execution_count": 1,
     "metadata": {},
     "output_type": "execute_result"
    }
   ],
   "source": [
    "from IPython.display import HTML\n",
    "import warnings\n",
    "warnings.filterwarnings(\"ignore\")\n",
    "\n",
    "HTML('''<script>\n",
    "code_show=true; \n",
    "function code_toggle() {\n",
    " if (code_show){\n",
    " $('div.input').hide();\n",
    " } else {\n",
    " $('div.input').show();\n",
    " }\n",
    " code_show = !code_show\n",
    "} \n",
    "$( document ).ready(code_toggle);\n",
    "</script>\n",
    "Another Note/warning: The raw code for this IPython notebook is by default hidden for easier reading.\n",
    "To toggle on/off the raw code, click <a href=\"javascript:code_toggle()\">here</a>.''')"
   ]
  },
  {
   "cell_type": "markdown",
   "metadata": {},
   "source": [
    "<a id='Bayesian Linear Regression'></a>\n",
    "## 1. Bayesian Linear Regression\n"
   ]
  },
  {
   "cell_type": "markdown",
   "metadata": {},
   "source": [
    "<a id='BLR1'></a>\n",
    "### 1.1 Problem setup: simple linear regression\n",
    "To understand Bayesian inference and probabilistic modeling, let's first start with the simplest statistical model, a simple linear regression. Simple linear regression is a regression model that models an unknown relationship between two entities (denoted as $x$ and $y$) as a linear relationship such that $y_i$, an ith sample of $y$, can be written as $y_i = \\beta x_i + \\epsilon$. Notice here that we have used the language _ith sample_ here, indicating that we believe x and y to be some sort of distribution, from which samples, or data, is collected. \n",
    "\n",
    "Let's more rigorously set up the linear regression problem as done below:\n",
    "\n",
    "Given a dataset D with N data points:\n",
    "\n",
    "$$ D = \\{(x_i, y_i)\\}_{i=1}^{N}$$ \n",
    "\n",
    "where we have a collection of $x_i$ and $y_i$ pairs, find a linear relationship $\\beta$ that minimizes the following objective:  \n",
    "\n",
    "$$ \\sum_i^N (y_i - \\beta x_i)^2 $$  \n",
    "\n",
    "This formulation is commonly known as the __least squares problem__, or the best-fit line problem. If data points do not perfectly lie on a line, the least-squares problem proposes a method to find the best fit line that models a possible trend/relationship between the two distributions.\n",
    "\n",
    "We first show that the least-squares problem is mathematically equivalent to assuming the residual $y_i - \\beta x_i$, corresponding to the noise term $\\epsilon$, to be a _Gaussian white noise_. This noise has a mean at $\\mu = 0 $  with variance $\\sigma^2$, for all values of $i \\in N$. Linear regression therefore also treats $y$ as a Gaussian random variable, centered about $\\beta x$ and with variance $\\sigma^2$. We can represent this information with the following notation:\n",
    "$$ y \\sim Normal(\\beta x, \\sigma^2)$$\n",
    "\n",
    "To those interested in the math, one can derive the equivalence between the least squares objective and the Gaussian distributionby examining the __likelihood__ function for the Gaussian. Given the above expression of y, the likelihood function, a function that evaluates the probability of a given sample given our assumptions of the underlying mechanics, can be written as: \n",
    "\n",
    "$$ \\prod_{i=1}^N \\frac{1}{\\sqrt{2\\pi\\sigma^2} } exp(\\frac{-(y_i - \\beta x_i)^2}{\\sigma^2} )$$\n",
    "\n",
    "This is simply the product of probability densities evaluated at each sample in the dataset. We can simply multiply the probabilities together because we consider each data point as being (conditionally) independent from each other. Our objective in linear regression to find $\\beta$ such that this expression is maximized.\n",
    "\n",
    "Maximizing this likelihood function is equivalent to maximizing the log of it, since $x$ and $\\log x$ always increases/decreases together. Taking the log of the likelihood and simplifying the expression shows the implicit normality assumption in least-squares regression. For those interested, the derivation is done as the following:\n",
    "<br>\n",
    "$$argmax_\\beta \\hspace{0.25cm}\\prod_{i=1}^N \\frac{1}{\\sqrt{2\\pi\\sigma^2} } exp(\\frac{-(y_i - \\beta x_i)^2}{\\sigma^2} )$$\n",
    "<br>\n",
    "$$\\iff argmax_\\beta \\hspace{0.25cm}\\ln{ \\big\\{ \\prod_{i=1}^N \\frac{1}{\\sqrt{2\\pi\\sigma^2} } exp(\\frac{-(y_i - \\beta x_i)^2}{\\sigma^2} \\big\\} }$$\n",
    "<br>\n",
    "$$\\iff argmax_\\beta \\hspace{0.25cm}\\sum_{i=1}^N \\big( -\\ln{\\sqrt{2\\pi\\sigma^2}} + \\frac{-(y_i - \\beta x_i)^2}{\\sigma^2} \\big\\}$$\n",
    "<br>\n",
    "$$\\iff argmax_\\beta\\hspace{0.25cm}\\sum_{i=1}^N\\frac{-(y_i - \\beta x_i)^2}{\\sigma^2}\\hspace{3.3cm}$$\n",
    "<br>\n",
    "$$\\iff  argmin_\\beta \\hspace{0.25cm}\\sum_{i=1}^N (y_i - \\beta x_i)^2\\hspace{3.7cm}$$\n",
    "\n",
    "<br><br>\n",
    "Optimizing the above expression to obtain an estimate of $\\beta$ above is an example of a __Maximum Likelihood Estimation(MLE)__ approach, or more generally speaking, a _frequentist_ approach. Frequentist approaches assume that there is enough data to conclude statistically significant conclusions about $\\beta$ given the dataset, and produce a single point solution for $\\beta$. This is often the approach taken for many conventional and widely adopted machine learning practices, but can be prone to overfitting when dataset is relatively small, or with increased complexity of the loss/likelihood functions - as is the case for neural networks - suffer from lack of interpretability.\n",
    "\n",
    "[back to top](#Header)"
   ]
  },
  {
   "cell_type": "markdown",
   "metadata": {
    "collapsed": true
   },
   "source": [
    "<a id='BLR2'></a>\n",
    "\n",
    "### 1.2 Introduction to Bayesian Inference\n",
    "\n",
    "_Bayesian_ approaches, on the other hand, avoid point estimations entirely. Rather, Bayesian method represent learned parameters - in the case for linear regression, the parameter $\\beta$ - as probability distributions rather than single optimal solutions.  This works well for many statistical modeling scenarios, where data insufficiently represents true relationships and functions due to noise or incorrect data, and thus may require us to represent _uncertainty_ in learned parameters. \n",
    "\n",
    "This information on parameter uncertainties also provides prediction uncertainties, and can be incredibly useful for fields like deep learning, where model uncertainty has traditionally been poorly understood due to complexity of neural networks.\n",
    "\n",
    "\n",
    "At the core of Bayesian methods lies the famous Bayes' Theorem, which can be written - in a more applicable form for probabilistic modeling - as the following:<br><br>\n",
    "\n",
    "$$ P(Parameters \\mid Data,Model) = \\frac{P(Data \\mid Parameters, Model) \\cdot P(Parameters\\mid Model)}{P(Data \\mid Model)} $$\n",
    "<br>\n",
    "<br>\n",
    "What makes Bayesian methods different is the addition of _prior belief_ to their models on the parameter being learned, which is represented as the second term on the numerator on the above expression as $P(Parameters \\mid Model)$. When size of collected samples used to train statistical model is small, this prior will have relatively significant influence on the behavior of the models, but with growing size of dataset diminish in its effects.\n",
    "\n",
    "The left side of this equation is what we aim to learn from the data, and what is called the _posterior distribution_ over the parameters, reflecting our beliefs on the parameter __after__ data has been observed. This posterior distribution can be further expanded as shown below:\n",
    "\n",
    "_Note: model and parameters all represented as $\\theta$ and data as D_\n",
    "<br><br><br>\n",
    "$$ Posterior \\hspace{1cm}\\iff\\hspace{1cm}P(\\theta \\mid D) = \\frac{P(D \\mid \\theta) \\cdot P(\\theta)}{\n",
    " P(D)} \\hspace{1cm}\\iff\\hspace{1cm} P(\\theta\\mid D) = \\frac{P(D \\mid \\theta) \\cdot P(\\theta)}{\n",
    "\\int P(D \\mid \\theta) \\cdot P(\\theta)\\hspace{0.1cm}d\\theta}$$\n",
    "<br><br>\n",
    "Notice that the first term on the numerator, $P(D \\mid \\theta)$ corresponds to the _likelihood_ of the data given model parameters, as we have already discussed in the previous section. Furthermore, the second term on the numerator corresponds to our prior beliefs on the parameter $\\theta$, as explained above. What is interesting is the denominator. The conversion of $P(D)$ into the integral is  the sum rule and the product rule of Bayes' Theorem, which respectively states that <br><br>\n",
    "\n",
    "$$P(x) \\iff \\int_{-\\infty}^\\infty{P(x \\cap y)\\hspace{0.1cm}dy} \\hspace{3cm}P(x,y)\\iff P(x\\mid y)\\cdot p(y)$$\n",
    "<br><br>\n",
    "The first one is called the sum rule because integrals are essentially summations, and is particularly important in Bayesian statistics because it allows functions with multiple unknown random variables to collapse to functions with less parameters, known as _marginal probability densities_. Here, the denominator for the posterior corresponds to a quantity called the _marginal likelihood_, where model parameters has been marginalized out using the sum rule. Therefore the above expression is also written as<br><br>\n",
    "$$ \\text{Posterior} \\iff \\frac{\\text{Likelihood} \\cdot \\text{Prior} }{\\text{Marginal Likelihood}} $$\n",
    "<br>\n",
    "  \n",
    "The process of evaluating this expression, hence learning the parameters of a proposed statistical model, is called __inference__, and is the most important part of Bayesian modeling. What is particularly noteworthy is that if the integral for the marginal likelihood is solvable, the posterior distribution can be directly calculated without any estimations. The difficulty in Bayesian methods arise from models where the marginal likelihood cannot be directly evaluated, as will be fully explained in [section 2](#ApproxInf)\n",
    "\n",
    "[back to top](#Header)"
   ]
  },
  {
   "cell_type": "markdown",
   "metadata": {},
   "source": [
    "<a id='BLR3'></a>\n",
    "### 1.3  Implementing Bayesian Linear Regression with Edward\n",
    "Now that we have an idea of how Bayesian methods work, let's set up this inference model for simple linear regression to understand how we can implement inference with Edward. To do so, we simply need to set up the data, the likelihood function and set a prior distribution that represents prior beliefs.\n",
    "\n",
    "__Data__:  \n",
    "The dataset will be a generated dataset, obtained by the following data-generating function:\n",
    "```python\n",
    "import numpy as np\n",
    "def toy_dataset(dataset_size, true_beta, noise_stdev):\n",
    "    # an array of randomly sampled integers\n",
    "    x = np.random.uniform(low=1, high = 20, size=dataset_size)\n",
    "    # target variable y is first initialized to true_beta * x\n",
    "    y = x * true_beta\n",
    "    # noise is a random normal with zero mean and stdev\n",
    "    noise = np.random.normal(scale = noise_stdev,size = dataset_size)\n",
    "    y += noise\n",
    "    return x,y\n",
    "```\n",
    "\n",
    "This dataset-generating function returns a uniformly sampled x, and y, which is the result of multiplying x by a constant and adding Gaussian noise. We then train test split a generated dataset with this code:\n",
    "```python\n",
    "# split data into train and test set\n",
    "from sklearn.model_selection import train_test_split\n",
    "train_x, test_x, train_y, test_y = train_test_split(sample_data_x, sample_data_y, test_size = .2)\n",
    "```\n",
    "A plot of a sample dataset with 2000 data points - 1600 for train set and 400 for test -  made by this function is shown below:"
   ]
  },
  {
   "cell_type": "code",
   "execution_count": 2,
   "metadata": {},
   "outputs": [
    {
     "data": {
      "image/png": "[encoded data removed]",
      "text/plain": [
       "<matplotlib.figure.Figure at 0x7f30107b4f60>"
      ]
     },
     "metadata": {},
     "output_type": "display_data"
    }
   ],
   "source": [
    "%matplotlib inline\n",
    "import warnings\n",
    "warnings.filterwarnings(\"ignore\")\n",
    "import numpy as np\n",
    "import matplotlib.pyplot as plt\n",
    "from scipy.stats import norm\n",
    "def toy_dataset(dataset_size, true_beta, noise_stdev):\n",
    "    # an array of randomly sampled integers\n",
    "    x = np.random.uniform(low=1, high = 20, size=dataset_size)\n",
    "    \n",
    "    # target variable y \n",
    "    y = x * true_beta\n",
    "    \n",
    "    # noise is a random normal with zero mean and stdev\n",
    "    noise = np.random.normal(scale = noise_stdev,size = dataset_size)\n",
    "    y += noise\n",
    "    \n",
    "    return x,y,true_beta, dataset_size\n",
    "\n",
    "sample_data_x, sample_data_y, true_beta,dataset_size = toy_dataset(20,10,1000)\n",
    "\n",
    "# split data into train and test set\n",
    "from sklearn.model_selection import train_test_split\n",
    "train_x, test_x, train_y, test_y = train_test_split(sample_data_x, sample_data_y, test_size = .2)\n",
    "\n",
    "#plot the sample_data\n",
    "fig = plt.figure(figsize=(11,9))\n",
    "plt.scatter(sample_data_x,sample_data_y, c=\"black\")\n",
    "plt.title(\"Sample Data Scatterplot with true beta=\"+str(true_beta),fontsize=20)\n",
    "plt.xlabel(\"x\", fontsize=25)\n",
    "plt.ylabel(\"y\",fontsize=25)\n",
    "plt.show()"
   ]
  },
  {
   "cell_type": "markdown",
   "metadata": {},
   "source": [
    "__Likelihood__:   \n",
    "In the simple linear regression setting, for a given value of $\\beta$, the likelihood of the data can be evaluated the following two ways:  \n",
    "If we use the likelihood of a Gaussian, we use $ \\prod_{i=1}^N \\frac{1}{\\sqrt{2\\pi\\sigma^2} } exp(\\frac{-(y_i - \\beta x_i)^2}{\\sigma^2} )$ and use some arbirary value of $\\sigma^2$ \n",
    "<br> \n",
    "\n",
    "  \n",
    "or using the equivalence of minimizing least squares with maximizing the likelihood of a Gaussian, we can also use $ -\\sum_i^N (y_i - \\beta x_i)^2 $  <br><br>\n",
    "\n",
    "__Prior__:   \n",
    "For this example, let's represent prior assumptions as a Gaussian with variance of 1 that is centered on a value that is different compared to the true $\\beta$\n",
    "\n",
    "We deliberately impose inaccurate prior beliefs, since this is more realistic, and will be illustrate the effectiveness of Bayesian methods even with incorrect priors. Also, keep in mind that if priors were really good and the parameter precisely known, there would be no need to do inference, or for that matter, model-based learning! \n",
    "\n",
    "<br>\n",
    "__Implementation:__\n",
    "\n",
    "Now we will actually implement this setup on Edward, as is illustrated in the code blocks shown below:<br><br>\n",
    "\n",
    "```python\n",
    "# Bayesian Linear Regression implementation in Edward\n",
    "import tensorflow as tf\n",
    "import edward as ed\n",
    "from edward.models import Normal\n",
    "import numpy as np\n",
    "```\n",
    "<br>\n",
    "Remember to have all of these libraries installed. Here we import Normal. However, there are many types of random variables (any probability distribution you can think of is most likely in there) supported by Edward, so feel free to play around with these. We will learn in the next section that there are only certain types of random variables that allow exact Bayesian inference. However, Edward is aimed to do approximate inference, and thus can support a much wider variety of random variables.<br><br>\n",
    "\n",
    "```python\n",
    "# defining the tensor that will hold the feature input\n",
    "X = tf.placeholder(tf.float32, shape=dataset_size)\n",
    "\n",
    "# beta will have inaccurate prior initializations since prior is a relatively narrow Gaussian on the wrong integer\n",
    "beta = Normal(loc=tf.constant(true_beta-5.0,shape=[1]),scale=tf.constant(100.0, shape=[1]))\n",
    "y = Normal(loc=X*beta, scale=tf.ones(dataset_size))\n",
    "\n",
    "# define the posterior\n",
    "qbeta = Normal(loc=tf.get_variable(\"qbeta/loc\", 1),\n",
    "            scale=tf.nn.softplus(tf.get_variable(\"qbeta/scale\", 1)))\n",
    "\n",
    "```\n",
    "<br>\n",
    "The model used to instantiate the posterior determines the functional form of the _prior distribution_, which is the Gaussian/Normal distribution here. The loc, scale arguments each correspond to the mean $\\mu$ and standard deviation $\\sigma$ (and not the variance!) and can either be assigned manually as is done here or through some learned metafeatures derived from the data.<br><br>\n",
    "\n",
    "```Python\n",
    "# inference through minimizing the KL-divergence \n",
    "inference = ed.KLqp({beta:qbeta}, data ={X: train_x, y: train_y})\n",
    "inference.run(n_samples=5, n_iter=1000)\n",
    "inference.finalize()\n",
    "```\n",
    "<br>\n",
    "It should be noted that KLqp() is an approximate Inference method, as opposed to _exact inference_, and moreover, Edward is __not__ a library used for exact inference. This is not a setback. In fact, most frequent use cases of inference, as will be explained in the next section, will require approximate inference.\n",
    "\n",
    "```python\n",
    "# sample from the posterior and visualize\n",
    "fig = plt.figure(figsize=(11,9))\n",
    "post = qbeta.sample(100000).eval()\n",
    "plt.hist(post, bins = 500,normed=True)\n",
    "plt.show()\n",
    "```\n",
    "\n",
    " Shown below is the result of visualizing the posterior - through a normalized histogram constructed from samples - obtained by training the Bayesian Linear regression model."
   ]
  },
  {
   "cell_type": "code",
   "execution_count": 3,
   "metadata": {
    "scrolled": false
   },
   "outputs": [
    {
     "name": "stdout",
     "output_type": "stream",
     "text": [
      "4000/4000 [100%] ██████████████████████████████ Elapsed: 70s | Loss: 11133788.000\n"
     ]
    },
    {
     "data": {
      "image/png": "[encoded data removed]",
      "text/plain": [
       "<matplotlib.figure.Figure at 0x7f2e201a59e8>"
      ]
     },
     "metadata": {},
     "output_type": "display_data"
    }
   ],
   "source": [
    "# Bayesian Linear Regression implementation in Edward\n",
    "import tensorflow as tf\n",
    "import edward as ed\n",
    "from edward.models import Normal\n",
    "import numpy as np\n",
    "\n",
    "train_features = tf.placeholder(tf.float32, shape=train_x.shape)\n",
    "\n",
    "# beta will have inaccurate prior initializations since prior is a relatively narrow Gaussian on the wrong integer\n",
    "beta = Normal(loc=tf.constant(true_beta-10.0,shape=[1]),scale=tf.constant(1000.0, shape=[1]))\n",
    "target = Normal(loc=train_features*beta, scale=tf.ones(train_y.shape))\n",
    "\n",
    "# define the posterior\n",
    "qbeta = Normal(loc=tf.get_variable(\"qbeta/loc\", 1),\n",
    "            scale=tf.nn.softplus(tf.get_variable(\"qbeta/scale\", 1)))\n",
    "\n",
    "# inference through minimizing the KL-divergence \n",
    "inference = ed.KLqp({beta:qbeta}, data = {train_features: train_x, target: train_y})\n",
    "inference.run(n_samples=100, n_iter=4000)\n",
    "inference.finalize()\n",
    "\n",
    "\n",
    "# sample from the posterior and visualize\n",
    "fig = plt.figure(figsize=(11,9))\n",
    "plt.title(\"Histogram of Samples drawn from Posterior\")\n",
    "post = qbeta.sample(100000).eval()\n",
    "plt.hist(post, bins = 500,normed=True)\n",
    "plt.show()"
   ]
  },
  {
   "cell_type": "markdown",
   "metadata": {},
   "source": [
    "This shows that the inaccurate prior - centered at 5 with a fairly small standard deviation of 1 - does not cripple Bayesian methods at all, and that inferred posterior does a very good job approximating the true beta value. Let's compare to a point estimate of the true $\\beta$ value obtained by running sklearn's linear regression module. Since our posterior distribution is a Gaussian, the point estimate and the peak of the inferred posterior above should be roughly the same. The code block used is as follows:\n",
    "\n",
    "```python\n",
    "from sklearn.linear_model import LinearRegression\n",
    "\n",
    "lm = LinearRegression(fit_intercept=False)\n",
    "lm.fit(sample_data_x.reshape(-1,1), sample_data_y.reshape(-1,1))\n",
    "print(float(lm.coef_))\n",
    "```"
   ]
  },
  {
   "cell_type": "code",
   "execution_count": 4,
   "metadata": {},
   "outputs": [
    {
     "name": "stdout",
     "output_type": "stream",
     "text": [
      "MLE estmate of true beta is: -21.993722312477345\n"
     ]
    },
    {
     "data": {
      "image/png": "[encoded data removed]",
      "text/plain": [
       "<matplotlib.figure.Figure at 0x7f2def8adcc0>"
      ]
     },
     "metadata": {},
     "output_type": "display_data"
    }
   ],
   "source": [
    "from sklearn.linear_model import LinearRegression\n",
    "\n",
    "lm = LinearRegression(fit_intercept=False)\n",
    "lm.fit(train_x.reshape(-1,1), train_y.reshape(-1,1))\n",
    "print(\"MLE estmate of true beta is: \"+str(float(lm.coef_)))\n",
    "\n",
    "plt.scatter(test_x, test_y,)\n",
    "temp = np.linspace(0,20,100)\n",
    "plt.plot(temp, lm.coef_*temp.reshape(-1,1), c='red')\n",
    "plt.title(\"MLE estimate of the true relationship\")\n",
    "plt.show()"
   ]
  },
  {
   "cell_type": "markdown",
   "metadata": {},
   "source": [
    "This should illustrate that inference is a comparable technique to MLE techniques. Let's see how comparable the two approaches are in terms of prediction accuracy. The way you do it is to first construct a predictive distribution from the posterior distribution. The prediction distribution can be obtained as the following:\n",
    "\n",
    "```python \n",
    "# first contruct the predictive distribution based on the inferred posterior distribution\n",
    "test_features = tf.placeholder(tf.float32, shape=test_x.shape)\n",
    "y_pred = Normal(loc=test_features * qbeta, scale=tf.ones(test_y.shape))\n",
    "```\n",
    "Here we define y_pred, which is the predictive distribution that uses the posterior qbeta as one of its inputs. Next, we compare it to the sklearn's linear regression model, and compare the mean squared error of both models:\n",
    "\n",
    "```python\n",
    "\n",
    "from sklearn.metrics import mean_squared_error\n",
    "lm_pred = lm.predict(test_x.reshape(-1,1))\n",
    "print(\"Mean squared error on test data for Bayesian model:\")\n",
    "print(ed.evaluate('mean_squared_error', data={test_features: test_x, y_pred:test_y}))\n",
    "\n",
    "```\n",
    "The print statements produced are as shown below:"
   ]
  },
  {
   "cell_type": "code",
   "execution_count": 5,
   "metadata": {},
   "outputs": [
    {
     "name": "stdout",
     "output_type": "stream",
     "text": [
      "Mean squared error on test data for Bayesian model:\n",
      "492093.56\n",
      "\n",
      "Mean squared error on test data for MLE model:\n",
      "492094.27905496664\n"
     ]
    }
   ],
   "source": [
    "# first contruct the predictive distribution based on the inferred posterior distribution\n",
    "test_features = tf.placeholder(tf.float32, shape=test_x.shape)\n",
    "y_pred = Normal(loc=test_features * qbeta, scale=tf.ones(test_y.shape))\n",
    "\n",
    "print(\"Mean squared error on test data for Bayesian model:\")\n",
    "print(ed.evaluate('mean_squared_error', data={test_features: test_x, y_pred:test_y}))\n",
    "\n",
    "# prediction accuracy for sklearn's linear regression module\n",
    "from sklearn.metrics import mean_squared_error\n",
    "\n",
    "lm_pred = lm.predict(test_x.reshape(-1,1))\n",
    "\n",
    "print(\"\\n\"+\"Mean squared error on test data for MLE model:\")\n",
    "print(mean_squared_error(test_y.reshape(-1,1), lm_pred))"
   ]
  },
  {
   "cell_type": "markdown",
   "metadata": {},
   "source": [
    "Notice that the Bayesian linear regression model does slightly better, although not too significantly. This is expected because the best value of beta for the training set will most likely be slightly off due to difference in training and test data due to in-sample noise. Bayesian models capture this uncertainty and therefore should have better generalizations in their predictions across different samples.\n",
    "\n",
    "\n",
    "[back to top](#Header)"
   ]
  },
  {
   "cell_type": "markdown",
   "metadata": {},
   "source": [
    "<a id='ApproxInf'></a>\n",
    "\n",
    "## 2. Approximate Bayesian Inference\n",
    "\n",
    "In the sections presented so far, we've shown how inference can work for a relatively straightforward case of simple linear regression with a Normal prior and have demonstrated a working implementation in Edward. However, we previously observed that Edward implements an iterative algorithm - with a function called KLqp - that approximates, rather than analytically solve for the posterior distribution. What is the approximation technique used/available on Edward and why do we approximate to start with? \n",
    "\n",
    "To answer these questions, we first explain when approximate inference is necessary or recommended, ands introduce two popular branches of such approximate inference techniques: __Variational Inference (VI)__ and __Markov-Chain-Monte-Carlo (MCMC)__.\n",
    "\n"
   ]
  },
  {
   "cell_type": "markdown",
   "metadata": {},
   "source": [
    "<a id='ApproxInf2'></a>\n",
    "\n",
    "### 2.1 Limits of Exact Inference\n",
    "\n",
    "Previously we explained that to do exact inference for the posterior, we evaluate the Bayes' formula:<br><br>\n",
    "\n",
    "$$\\frac{P(D \\mid \\theta) \\cdot P(\\theta)}{\n",
    "\\int P(D \\mid \\theta) \\cdot P(\\theta)\\hspace{0.1cm}d\\theta} \\hspace{.5cm} \\iff \\hspace{.75cm} \\frac{\\text{Likelihood}\\cdot{\\text{Prior}}}{\\text{Marginal Likelihood}}$$ \n",
    "<br>\n",
    "\n",
    "The critical component here is the integral in the denominator, or the _marginal likelihood_. The posterior can only be exactly evaluated if this integral is tractable, and therefore, solvable. This is true only for a very limited range of distribution families, which includes the exponential family - the Gaussian being the most prominent member -,the Gamma distribution, the Beta distribution and so on. However, for many complex hiearchical models, such as neural nets, the integral is in fact intractable and therefore cannot be exactly solved.\n",
    "\n",
    "There are two main approaches to tackling this limitation. One method employs an estimation of true posterior with a relatively easier-to-deal-with distribution, and is called variational inference. The other approach, Markov-chain-Monte-Carlo, samples directly from the posterior using Markov chains, evaluate the likelihood * prior over these samples and use the results instead of evaluating the integral. This section aims to expand on these methods, explain their relative strengths and weaknesses, so that we may expand on how to use them with Edward."
   ]
  },
  {
   "cell_type": "markdown",
   "metadata": {},
   "source": [
    "<a id='addApprox'></a>\n",
    "__Optional Read: Marginal likelihood and Bayesian Model Comparison __\n",
    "<br><br>\n",
    "While marginal likelihood typically impedes exact inference of the posterior, one may observe that the marginal likelihood can be regarded somewhat as a normalizing constant, and that in fact if we were simply interested in the shape of the posterior, one could use the relationship:\n",
    "\n",
    "$$ Posterior \\hspace{0.25cm} \\propto \\hspace{0.25cm} P(D \\mid \\theta) \\cdot P(\\theta)$$\n",
    "\n",
    "to get an unnormalized density proportional to the true posterior, avoiding the pesky integral entirely. So why would we use approximate inference?\n",
    "\n",
    "A large part is that the marginal likelihood, also called _model evidence_, is used for _model comparison_. This refers to comparing different types of models - between a linear regression and decision trees for example - or simply the same model with different hyperparameters on a given dataset, like kernel size, learning rate, and so on. Because models can all have very different values for their true marginal likelihoods, knowing the unnormalized density for the posterior of a given model makes comparison unreasonable.\n",
    "\n",
    "Bayesian model comparison uses the Bayes' Theorem again, where this time we try to evaluate the posterior probability of a model given data: \n",
    "<br><br>\n",
    "$$ P(Model \\mid Data) \\hspace{0.5cm}=\\hspace{0.5cm}\\frac{\\overbrace{P(Data \\mid Model)}^\\text{Model Evidence}\\cdot \\overbrace{P(Model)}^{\\text{Model Prior}}}{P(Data)} $$\n",
    "<br><br>\n",
    "Notice that to evaluate this we need the marginal likelihood, labelled in the above equation as 'model evidence', as previously stated. Once this posterior is evaluated for a model, we can compare it to posteriors of the other models. An example between two hypothetical models M1 and M2 is shown below:\n",
    "<br><br>\n",
    "\n",
    "$$ \\frac{P(M1 \\mid Data)}{P(M2\\mid Data)} \\hspace{0.5cm}=\\hspace{0.5cm}\\frac{P(Data \\mid M1)\\cdot P(M1)}{P(Data \\mid M2)\\cdot P(M2)}\\hspace{0.5cm}=\\hspace{0.5cm} \\underbrace{\\bigg(\\frac{P(Data \\mid M1)}{P(Data \\mid M2)}\\bigg)}_{\\text{Bayes Factor}}\\cdot \\underbrace{\\bigg(\\frac{P(M1)}{P(M2)}\\bigg)}_\\text{Prior Odds}$$\n",
    "\n",
    "From this expression, if we cannot reliably know a priori whether one model does better than the other, then the model comparison is a simple marginal likelihood ratio test, and one should prefer a model that produces significantly higher marginal likelihood/model evidence. This approach has the added advantage that models with higher complexity automatically is at a disadvantage due to smaller marginal likelihoods.  \n",
    "[back to top](#Header)"
   ]
  },
  {
   "cell_type": "markdown",
   "metadata": {},
   "source": [
    "<a id='ApproxInf3'></a>\n",
    "### 2.2 Variational Inference\n",
    "Variational inference is a very popular Bayesian method used for approximate inference, particularly for either intractable integrals, or tractable but high-dimensional distributions, which can be computationally expensive to deal with. Intuitively, VI approximates a complex distribution with distributions that are easier to deal with. If a distribution is not analytically solvable because of an intractable integral, one may use VI to approximate it with distributions with tractable solutions. Alternatively, one may also use VI for very high-dimensional but tractable distributions to reduce dimensionality.\n",
    "\n",
    "Shown below is an example of what VI attempts to do. P in this case is the _true density_ with a potentially intractable marginal likelihood. Q here is a _proposal distribution_, in the form a Gaussian distribution, that approximates P. While they may not be exact, a close enough Q can yield very similar and reliable results in inference and predictions. \n",
    "\n",
    "![image](http://davmre.github.io/blog/assets/images/variational_approximation.png)\n",
    "\n",
    "This procedure is typically done by minimizing a distance measure between two distributions known as __KL divergence__ using stochastic gradient descent(SGD). While variational inference as a method has existed for quite some time, its newfound popularity is due to advances in SGD, as well as advances in calculating what is known as Evidence Lower Bound, which provides an estimate of the lower bound for the marginal likelihood, which has allowed variational inference to be effective in a much wider family of distributions.<br><br>"
   ]
  },
  {
   "cell_type": "markdown",
   "metadata": {},
   "source": [
    "<a id='ApproxInf4'></a>\n",
    "__ 2.2.1 KL divergence__  \n",
    "\n",
    "KL divergence, or the Kullback-Leibler divergence, is a distance measure between two density functions that has the following form:\n",
    "\n",
    "$$D_{kl}(P\\mid\\mid Q)= -\\int_{i} P(i) \\log{\\frac{Q(i)}{P(i)}} $$\n",
    "\n",
    "However, in practice, sampling is used to compare the two distributions, since this is much more computationally tractable, and therefore the KL divergence formula more useful is the following:\n",
    "\n",
    "$$D_{kl}(P\\mid\\mid Q)= -\\sum_{i} P(i) \\log{\\frac{Q(i)}{P(i)}} \\hspace{1cm} \\text{and} \\hspace{1cm} D_{kl}(Q\\mid\\mid P)= -\\sum_{i} Q(i) \\log{\\frac{P(i)}{Q(i)}}  $$\n",
    "\n",
    "Notice that this distance measure is not necessarily symmetric, that is:\n",
    "<br><br>\n",
    "\n",
    "$$D_{kl}(P\\mid\\mid Q) \\neq D_{kl}(Q\\mid\\mid P)$$\n",
    "<br><br>\n",
    "This is an important distinction, as the two metrics will differ in the outcome they produce. Minimizing $D_{KL}(P \\mid \\mid Q)$ encourages Q to be small in areas that P is small, since P is in the denominator for the log expression. Whereas minimizing $D_{KL}(Q \\mid \\mid P)$ drives Q to be large where P is large, and may even drive Q towards the largest peak of P. A visualization is shown below:\n",
    "![image](https://benmoran.files.wordpress.com/2012/07/wpid-kloptim.png?w=500)\n",
    "\n",
    "Here the red line is P, the true distribution. Blue line a result of minimizing $D_{KL}(Q \\mid \\mid P)$, and green the result of minimizing $D_{KL}(P \\mid \\mid Q)$. Blue line is driven towards the largest peak as expected, where as green line approximates it more broadly over a region of relatively high mass. Each approximation can have its own advantages and disadvantages. However  $D_{KL}(Q \\mid \\mid P)$ can be problematic when the highest peak is very sharp, and does not necessarily represent the majority of the true distribution, such as the following distribution:<br><br>\n",
    "\n",
    "\n",
    "![image](https://www.researchgate.net/profile/M_Uleysky/publication/304989177/figure/fig4/AS:613990153596929@1523398068151/The-distribution-of-a-number-of-long-w-flights-with-T-f-10-3-over-their-mean-zonal.png)\n",
    "<br><br>\n",
    "\n",
    "Here the sharp peak may not necessarily be a good representation of the entire distribution, and will lead to inaccurate representation of the posterior after variational inference. One may need to consider what the general shape of the posterior is before employing variational inference. One way one could do this is to first obtain the shape of the loss surface by calculating only the numerator in the posterior expression. This avoids the problem of calculating the marginal likelihood"
   ]
  },
  {
   "cell_type": "markdown",
   "metadata": {},
   "source": [
    "<a id='ApproxInf5'></a>\n",
    "__ 2.2.2 How to minimize KL divergence / Evidence Lower Bound(ELBO)__\n",
    "\n",
    "In this section we show minimizing the KL divergence is equivalent to maximizing what is known as the __Evidence Lower Bound__, or ELBO. This optimization often takes form of a gradient descent operation. The equivalence between KL divergence and ELBO is shown below.\n",
    "\n",
    "First of all, if we are to be more rigorous with our notations, $D_{kl}(Q \\mid\\mid P)$ should be actually written as $ D_{kl}(q(y) \\mid\\mid p(y\\mid x) )$ <br><br>\n",
    "\n",
    "We expand upon the KL divergence expression as follows:\n",
    "$$ $$\n",
    "$$ D_{kl}(q(y) \\mid\\mid p(y\\mid x) ) = -\\int_y{\\log{p(y \\mid x)}} $$\n",
    "\n",
    "Recall that $ P(y \\mid x)$ can be written as  $\\frac{p(y,z)}{} $"
   ]
  },
  {
   "cell_type": "markdown",
   "metadata": {},
   "source": [
    "### 2.3 Markov-Chain Monte Carlo\n",
    "TODO\n",
    "\n",
    "__ Metropolis - Hastings__  \n",
    "__ Gibbs sampling __    \n",
    "__ Slice Sampling __"
   ]
  },
  {
   "cell_type": "markdown",
   "metadata": {},
   "source": [
    "<a id=\"BNN\"></a>\n",
    "## 3. Bayesian Neural Network Implementation in Edward\n",
    "\n",
    "Let's dive into an implementation of Bayesian neural networks. Edward is the main library we're going to use here. Edward is a probablistic programming library that sits on top of tensorflow. This means it benefits from Tensorflow's graph construction and optimization, as well as ease of GPU acceleration in inference. It also interacts well with Keras's layers, an advantage that we will also explore in this section."
   ]
  },
  {
   "cell_type": "markdown",
   "metadata": {},
   "source": [
    "<a id='BNN1'></a>\n",
    "### 3.1 Bayesian Multilayer Perceptron\n",
    "\n",
    "Let's start with a simple Feedforward network, also known as a Multilayer Perceptron (MLP). Here we will use the MNIST digit recognition data. The data extraction is done with the following code. \n",
    "\n",
    "```python\n",
    "# use Keras and Edward\n",
    "from edward.models import Normal, OneHotCategorical\n",
    "import edward as ed\n",
    "import tensorflow as tf\n",
    "from tensorflow.examples.tutorials.mnist import input_data\n",
    "\n",
    "# download the MNIST dataset\n",
    "mnist = input_data.read_data_sets(\"MNIST_data/\",one_hot = True)\n",
    "\n",
    "# assign train test data with corresponding features(x) and labels(y)\n",
    "x_train = mnist.train.images\n",
    "y_train = mnist.train.labels\n",
    "\n",
    "x_test = mnist.test.images\n",
    "y_test = mnist.test.labels\n",
    "\n",
    "# assign the dimensions of the training data\n",
    "N, D = x_train.shape\n",
    "```\n",
    "Notice that we use both Edward and tensorflow. We also import Normal and OneHotCategorical modules, which will be used to represent parameters and neural network output respectively. \n",
    "<br><br>\n",
    "\n",
    "__1. Defining the model __\n",
    "\n",
    "One way to use Edward is to first define the model explicitly. In other words, this means defining the workflow of the model given certain probablistic inputs. This is similar to how probablistic modeling works. Typically a graphical model is constructed first to understand the hierarchy and model construction. Below is a 2-hidden-layer fully connected neural network.\n",
    "\n",
    "```python\n",
    "# define a neural network with two hidden layers that uses the tanh activation\n",
    "\n",
    "def neural_network_classifier(x, W_0, W_1, W_2, b_0,b_1, b_2 ):\n",
    "    # first hidden layer\n",
    "    h = tf.nn.relu(tf.matmul(x, W_0) + b_0)\n",
    "    \n",
    "    # second hidden layer\n",
    "    h = tf.nn.relu(tf.matmul(h, W_1) + b_1)\n",
    "    \n",
    "    # final output\n",
    "    h = tf.nn.softmax(tf.matmul(h, W_2) + b_2)\n",
    "    \n",
    "    return h\n",
    "    \n",
    "# define the inputs and how y is derived\n",
    "x = tf.placeholder(tf.float32,[N,D])\n",
    "y = OneHotCategorical(probs = neural_network_classifier(x, W_0,W_1, W_2, b_0, b_1, b_2))\n",
    "```\n",
    "\n",
    "As explained above, we first defined the model construction. In our case, this neural network has two hidden layers, use rectified linear units (ReLU) which simply does a  $max(0,W\\cdot x+b) for each layer. The last output does a softmax transformation, since we want the neural network to output a probability-like value for each of the classes. Our problem is the MNIST digid recognition problem, therefore we define the output to have size 10 for any input. We then define how y should be constructed as a one-hot categorical from this neural network output.<br><br>\n",
    "\n",
    "__2. Defining the prior distribution __\n",
    "\n",
    "Once we've defined a model that follows a certain hierarchy/workflow, we can define each of the inputs as a __random variable__. This is the key feature of Edward:it allows for probablistic modeling by defining input parameters to a model as stochastic variables. These random variables represent our prior beliefes about these parameters. Here we define them to be a multivariate standard normal, with the dimensions of the defined normal variables matching those in the predefined model above.\n",
    "\n",
    "```python\n",
    "W_0 = Normal(loc=tf.zeros([D, 100]), scale=tf.ones([D, 100]))\n",
    "W_1 = Normal(loc=tf.zeros([100, 100]), scale=tf.ones([100, 100]))\n",
    "W_2 = Normal(loc=tf.zeros([100, 10]), scale=tf.ones([100, 10]))\n",
    "b_0 = Normal(loc=tf.zeros(100), scale=tf.ones(100))\n",
    "b_1 = Normal(loc=tf.zeros(100), scale=tf.ones(100))\n",
    "b_2 = Normal(loc=tf.zeros(10), scale=tf.ones(10))\n",
    "```\n",
    "\n",
    "It should be noted that one does not necessarily have to choose the normal distribution for these priors. One may choose to use any random variable available in Edward's model API ([link](http://edwardlib.org/api/model)) as these priors. Once we've defined our prior assumptions using these, we can now proceed to define estimation variables. Remember from [2. Approximate Bayesian Inference](#ApproxInf) section from this notebook that the posterior, $ P(\\theta \\mid \\text{Data}) $, must always be approximated save for a very few restrictive cases where the integral for the marginal likelihood is in fact tractable.\n",
    "\n",
    "In our case we have a weight and bias variable for each layer. We need to define estimation random variables for these. This is similar to the Bayesian linear regression model, where we define the prior distribution over the parameters, and then define the form of the proposed distribution for each of them, as the following:\n",
    "\n",
    "```python\n",
    "# INFERENCE\n",
    "with tf.variable_scope(\"posterior\"):\n",
    "    # First hidden layer weight and bias\n",
    "    with tf.variable_scope(\"qW_0\"):\n",
    "        loc = tf.get_variable(\"loc\", [D, 100])\n",
    "        scale = tf.nn.softplus(tf.get_variable(\"scale\", [D, 100]))\n",
    "        qW_0 = Normal(loc=loc, scale=scale)\n",
    "    with tf.variable_scope(\"qb_0\"):\n",
    "        loc = tf.get_variable(\"loc\", [100])\n",
    "        scale = tf.nn.softplus(tf.get_variable(\"scale\", [100]))\n",
    "        qb_0 = Normal(loc=loc, scale=scale)\n",
    "    \n",
    "    # Second hidden layer weight and bias\n",
    "    with tf.variable_scope(\"qW_1\"):\n",
    "        loc = tf.get_variable(\"loc\", [100, 100])\n",
    "        scale = tf.nn.softplus(tf.get_variable(\"scale\", [100, 100]))\n",
    "        qW_1 = Normal(loc=loc, scale=scale)\n",
    "    with tf.variable_scope(\"qb_1\"):\n",
    "        loc = tf.get_variable(\"loc\", [100])\n",
    "        scale = tf.nn.softplus(tf.get_variable(\"scale\", [100]))\n",
    "        qb_1 = Normal(loc=loc, scale=scale)\n",
    "        \n",
    "    # Output Softmax layer weight and bias\n",
    "    with tf.variable_scope(\"qW_2\"):\n",
    "        loc = tf.get_variable(\"loc\", [100, 10])\n",
    "        scale = tf.nn.softplus(tf.get_variable(\"scale\", [100, 10]))\n",
    "        qW_2 = Normal(loc=loc, scale=scale)\n",
    "    with tf.variable_scope(\"qb_2\"):\n",
    "        loc = tf.get_variable(\"loc\", [10])\n",
    "        scale = tf.nn.softplus(tf.get_variable(\"scale\", [10]))\n",
    "        qb_2 = Normal(loc=loc, scale=scale)\n",
    "```\n",
    "\n",
    "All the with statements here facilitate the tensorflow program to differentiate different variable names. For clean code, we have defined each argument of the Normal() objects outside the object first. While the estimation variables here have the exact same dimensions as their estimated variable counterparts, this does not have to be the case. They can be lower dimensions to reduce computational complexity. They must however match the dimensions of one another to make sure the matrix multiplications in the model function __neural_network_classifier()__ still works.\n",
    "\n",
    "Once you have defined all relevant proposal and prior distribution forms, you simply define what approximate inference method to use (in this case variational inference using KL-divergence minimization). \n",
    "\n",
    "```python\n",
    "# use KL divergence minimization\n",
    "inference = ed.KLqp({W_0: qW_0, b_0: qb_0,\n",
    "                       W_1: qW_1, b_1: qb_1,\n",
    "                       W_2: qW_2, b_2: qb_2}, data={x: x_train, y: y_train})\n",
    "# run inference\n",
    "inference.run(n_samples=5, n_iter=1000)\n",
    "inference.finalize()\n",
    "```\n",
    "\n",
    "Again notice that we are using KLqp and not KLpq. This is because the former typically is computationally faster. One may choose to change the approximation method to see if it offers any advantages. Running this code will, just like it did for Bayesian Linear regression, show a progress bar showing the variational inference iterations at work. "
   ]
  },
  {
   "cell_type": "code",
   "execution_count": 6,
   "metadata": {},
   "outputs": [
    {
     "name": "stdout",
     "output_type": "stream",
     "text": [
      "Successfully downloaded train-images-idx3-ubyte.gz 9912422 bytes.\n",
      "Extracting MNIST_data/train-images-idx3-ubyte.gz\n",
      "Successfully downloaded train-labels-idx1-ubyte.gz 28881 bytes.\n",
      "Extracting MNIST_data/train-labels-idx1-ubyte.gz\n",
      "Successfully downloaded t10k-images-idx3-ubyte.gz 1648877 bytes.\n",
      "Extracting MNIST_data/t10k-images-idx3-ubyte.gz\n",
      "Successfully downloaded t10k-labels-idx1-ubyte.gz 4542 bytes.\n",
      "Extracting MNIST_data/t10k-labels-idx1-ubyte.gz\n"
     ]
    }
   ],
   "source": [
    "import tensorflow as tf\n",
    "import numpy as np\n",
    "from tensorflow.examples.tutorials.mnist import input_data\n",
    "# download the MNIST dataset\n",
    "mnist = input_data.read_data_sets(\"MNIST_data/\", one_hot = True)\n",
    "# assign train test data with corresponding features(x) and labels(y)\n",
    "x_train = mnist.train.images\n",
    "y_train = mnist.train.labels\n",
    "\n",
    "x_test = mnist.test.images\n",
    "y_test = mnist.test.labels"
   ]
  },
  {
   "cell_type": "code",
   "execution_count": 7,
   "metadata": {
    "scrolled": true
   },
   "outputs": [],
   "source": [
    "# use Keras and Edward\n",
    "from edward.models import Normal, OneHotCategorical\n",
    "import edward as ed\n",
    "import tensorflow as tf\n",
    "from tensorflow.examples.tutorials.mnist import input_data\n",
    "\n",
    "# define a neural network with two hidden layers that uses the tanh activation\n",
    "\n",
    "def neural_network_classifier(x, W_0, W_1, W_2, b_0,b_1, b_2 ):\n",
    "    # first hidden layer\n",
    "    h = tf.nn.relu(tf.matmul(x, W_0) + b_0)\n",
    "    \n",
    "    # second hidden layer\n",
    "    h = tf.nn.relu(tf.matmul(h, W_1) + b_1)\n",
    "    \n",
    "    # final output\n",
    "    h = tf.nn.softmax(tf.matmul(h, W_2) + b_2)\n",
    "    \n",
    "    return h\n",
    "\n",
    "N, D = x_train.shape\n",
    "\n",
    "W_0 = Normal(loc=tf.zeros([D, 100]), scale=tf.ones([D, 100]))\n",
    "W_1 = Normal(loc=tf.zeros([100, 100]), scale=tf.ones([100, 100]))\n",
    "W_2 = Normal(loc=tf.zeros([100, 10]), scale=tf.ones([100, 10]))\n",
    "b_0 = Normal(loc=tf.zeros(100), scale=tf.ones(100))\n",
    "b_1 = Normal(loc=tf.zeros(100), scale=tf.ones(100))\n",
    "b_2 = Normal(loc=tf.zeros(10), scale=tf.ones(10))\n",
    "\n",
    "\n",
    "x = tf.placeholder(tf.float32,[N,D])\n",
    "y = OneHotCategorical(neural_network_classifier(x, W_0,W_1, W_2, b_0, b_1, b_2))"
   ]
  },
  {
   "cell_type": "code",
   "execution_count": 8,
   "metadata": {
    "scrolled": true
   },
   "outputs": [
    {
     "name": "stdout",
     "output_type": "stream",
     "text": [
      "WARNING:tensorflow:From /home/deeplearning_1/anaconda3/lib/python3.6/site-packages/tensorflow/contrib/distributions/python/ops/onehot_categorical.py:201: softmax_cross_entropy_with_logits (from tensorflow.python.ops.nn_ops) is deprecated and will be removed in a future version.\n",
      "Instructions for updating:\n",
      "\n",
      "Future major versions of TensorFlow will allow gradients to flow\n",
      "into the labels input on backprop by default.\n",
      "\n",
      "See tf.nn.softmax_cross_entropy_with_logits_v2.\n",
      "\n",
      "2000/2000 [100%] ██████████████████████████████ Elapsed: 1415s | Loss: 87879.281\n"
     ]
    }
   ],
   "source": [
    "# INFERENCE using VI\n",
    "with tf.variable_scope(\"posterior\"):\n",
    "    with tf.variable_scope(\"qW_0\"):\n",
    "        loc = tf.get_variable(\"loc\", [D,100])\n",
    "        scale = tf.nn.softplus(tf.get_variable(\"scale\", [D,100]))\n",
    "        qW_0 = Normal(loc=loc, scale=scale)\n",
    "    with tf.variable_scope(\"qW_1\"):\n",
    "        loc = tf.get_variable(\"loc\", [100, 100])\n",
    "        scale = tf.nn.softplus(tf.get_variable(\"scale\", [100, 100]))\n",
    "        qW_1 = Normal(loc=loc, scale=scale)\n",
    "    with tf.variable_scope(\"qW_2\"):\n",
    "        loc = tf.get_variable(\"loc\", [100, 10])\n",
    "        scale = tf.nn.softplus(tf.get_variable(\"scale\", [100, 10]))\n",
    "        qW_2 = Normal(loc=loc, scale=scale)\n",
    "    with tf.variable_scope(\"qb_0\"):\n",
    "        loc = tf.get_variable(\"loc\", [100])\n",
    "        scale = tf.nn.softplus(tf.get_variable(\"scale\", [100]))\n",
    "        qb_0 = Normal(loc=loc, scale=scale)\n",
    "    with tf.variable_scope(\"qb_1\"):\n",
    "        loc = tf.get_variable(\"loc\", [100])\n",
    "        scale = tf.nn.softplus(tf.get_variable(\"scale\", [100]))\n",
    "        qb_1 = Normal(loc=loc, scale=scale)\n",
    "    with tf.variable_scope(\"qb_2\"):\n",
    "        loc = tf.get_variable(\"loc\", [10])\n",
    "        scale = tf.nn.softplus(tf.get_variable(\"scale\", [10]))\n",
    "        qb_2 = Normal(loc=loc, scale=scale)\n",
    "\n",
    "sess = tf.InteractiveSession()\n",
    "        \n",
    "inference = ed.KLqp({W_0: qW_0, b_0: qb_0,\n",
    "                       W_1: qW_1, b_1: qb_1,\n",
    "                       W_2: qW_2, b_2: qb_2}, data={x: x_train, y: y_train})\n",
    "\n",
    "inference.initialize(logdir='log')          \n",
    "inference.run(n_samples=100, n_iter=2000)\n",
    "inference.finalize()"
   ]
  },
  {
   "cell_type": "markdown",
   "metadata": {},
   "source": [
    "Once the progress bar is full, the posterior approximation has been complete and now we can move onto prediction. This part is almost identical to the part in the Bayesian linear regression example. We first set up the input placeholders and prediction random variable.\n",
    "\n",
    "```python\n",
    "test_features = tf.placeholder(tf.float32, shape=x_test.shape)\n",
    "y_pred = OneHotCategorical(probs=neural_network_classifier(test_features, qW_0, qW_1, qW_2, qb_0,qb_1, qb_2 ))\n",
    "\n",
    "```\n",
    "\n",
    "Here y_pred is a random variable defined by probabilities vector over the 10 classes. We can then evaluate the test accuracy by running ed.evaluate, as shown below:\n",
    "```python\n",
    "print(\"Accuracy on test MNIST data for the Bayesian :\")\n",
    "print(ed.evaluate('categorical_accuracy', data={test_features: x_test, y_pred:y_pred}))\n",
    "```\n",
    "\n",
    "The output is shown below"
   ]
  },
  {
   "cell_type": "code",
   "execution_count": 9,
   "metadata": {
    "scrolled": true
   },
   "outputs": [
    {
     "name": "stdout",
     "output_type": "stream",
     "text": [
      "Accuracy on test MNIST data for the Bayesian :\n",
      "0.9579\n"
     ]
    }
   ],
   "source": [
    "test_features = tf.placeholder(tf.float32, shape=x_test.shape)\n",
    "y_pred = OneHotCategorical(neural_network_classifier(test_features, qW_0, qW_1, qW_2, qb_0,qb_1, qb_2 ))\n",
    "print(\"Accuracy on test MNIST data for the Bayesian :\")\n",
    "print(ed.evaluate('categorical_accuracy', data={test_features: x_test, y_pred:y_test}))"
   ]
  },
  {
   "cell_type": "markdown",
   "metadata": {},
   "source": [
    "Notice that it takes some computation to actually calculate the accuracy. This is because to make a prediction, one must collapse the predictive distribution to a single value. In most cases, this is equivalent to taking the expectation of the predictive distribution. In practive samples are drawn from the predictive distribution and then averaged. We see that this relatively simple setup manages to get a 100% accuracy on the MNIST dataset, which shows the effectiveness of the Bayesian framework.\n",
    "\n",
    "[Back to top](#Header)"
   ]
  },
  {
   "cell_type": "markdown",
   "metadata": {},
   "source": [
    "```python\n",
    "from edward.models import Empirical\n",
    "\n",
    "with tf.variable_scope(\"posterior_mcmc\"):\n",
    "    qW_0 = Empirical(params = tf.get_variable(\"qW_0/params\", [200,784,400]))\n",
    "    qW_1 = Empirical(params = tf.get_variable(\"qW_1/params\", [200,400,400]))\n",
    "    qW_2 = Empirical(params = tf.get_variable(\"qW_2/params\", [200,400,10]))\n",
    "    qb_0 = Empirical(params = tf.get_variable(\"qb_0/params\", [200,400]))\n",
    "    qb_1 = Empirical(params = tf.get_variable(\"qb_1/params\", [200,400]))\n",
    "    qb_2 = Empirical(params = tf.get_variable(\"qb_2/params\", [200,10]))\n",
    "\n",
    "sess = tf.InteractiveSession()\n",
    "\n",
    "inference_hmc = ed.HMC({W_0: qW_0, b_0: qb_0,\n",
    "                       W_1: qW_1, b_1: qb_1,\n",
    "                       W_2: qW_2, b_2: qb_2}, data={x: x_train, y: y_train})\n",
    "\n",
    "inference_hmc.run(step_size=0.01, n_steps = 10000)\n",
    "```"
   ]
  },
  {
   "cell_type": "markdown",
   "metadata": {},
   "source": [
    "```python\n",
    "test_features = tf.placeholder(tf.float32, shape=x_test.shape)\n",
    "y_pred = OneHotCategorical(neural_network_classifier(test_features, qW_0, qW_1, qW_2, qb_0,qb_1, qb_2 ))\n",
    "print(\"Accuracy on test MNIST data for the Bayesian :\")\n",
    "print(ed.evaluate('categorical_accuracy', data={test_features: x_test, y_pred:y_test}))\n",
    "```"
   ]
  }
 ],
 "metadata": {
  "kernelspec": {
   "display_name": "Python 3",
   "language": "python",
   "name": "python3"
  },
  "language_info": {
   "codemirror_mode": {
    "name": "ipython",
    "version": 3
   },
   "file_extension": ".py",
   "mimetype": "text/x-python",
   "name": "python",
   "nbconvert_exporter": "python",
   "pygments_lexer": "ipython3",
   "version": "3.6.4"
  },
  "widgets": {
   "application/vnd.jupyter.widget-state+json": {
    "state": {},
    "version_major": 1,
    "version_minor": 0
   }
  }
 },
 "nbformat": 4,
 "nbformat_minor": 2
}
